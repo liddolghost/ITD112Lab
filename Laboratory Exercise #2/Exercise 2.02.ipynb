{
 "cells": [
  {
   "cell_type": "markdown",
   "metadata": {},
   "source": [
    "## Exercise 2.02: Forest Fire Size and Temperature Analysis"
   ]
  },
  {
   "cell_type": "markdown",
   "metadata": {},
   "source": [
    "In this activity, we will use pandas features to derive some insights from a forest fire dataset. We will get the mean size of forest fires, what the largest recorded fire in our dataset is, and whether the amount of forest fires grows proportionally to the temperature in each month."
   ]
  },
  {
   "cell_type": "markdown",
   "metadata": {},
   "source": [
    "#### Loading the dataset"
   ]
  },
  {
   "cell_type": "code",
   "execution_count": 1,
   "metadata": {},
   "outputs": [],
   "source": [
    "# importing the necessary dependencies\n",
    "import pandas as pd"
   ]
  },
  {
   "cell_type": "code",
   "execution_count": 3,
   "metadata": {},
   "outputs": [],
   "source": [
    "#1 load the \"forestfires.csv\" dataset\n",
    "dataset = pd.read_csv('forestfires.csv', delimiter=',')"
   ]
  },
  {
   "cell_type": "code",
   "execution_count": 10,
   "metadata": {},
   "outputs": [
    {
     "data": {
      "text/html": [
       "<div>\n",
       "<style scoped>\n",
       "    .dataframe tbody tr th:only-of-type {\n",
       "        vertical-align: middle;\n",
       "    }\n",
       "\n",
       "    .dataframe tbody tr th {\n",
       "        vertical-align: top;\n",
       "    }\n",
       "\n",
       "    .dataframe thead th {\n",
       "        text-align: right;\n",
       "    }\n",
       "</style>\n",
       "<table border=\"1\" class=\"dataframe\">\n",
       "  <thead>\n",
       "    <tr style=\"text-align: right;\">\n",
       "      <th></th>\n",
       "      <th>X</th>\n",
       "      <th>Y</th>\n",
       "      <th>month</th>\n",
       "      <th>day</th>\n",
       "      <th>FFMC</th>\n",
       "      <th>DMC</th>\n",
       "      <th>DC</th>\n",
       "      <th>ISI</th>\n",
       "      <th>temp</th>\n",
       "      <th>RH</th>\n",
       "      <th>wind</th>\n",
       "      <th>rain</th>\n",
       "      <th>area</th>\n",
       "    </tr>\n",
       "  </thead>\n",
       "  <tbody>\n",
       "    <tr>\n",
       "      <th>0</th>\n",
       "      <td>7</td>\n",
       "      <td>5</td>\n",
       "      <td>mar</td>\n",
       "      <td>fri</td>\n",
       "      <td>86.2</td>\n",
       "      <td>26.2</td>\n",
       "      <td>94.3</td>\n",
       "      <td>5.1</td>\n",
       "      <td>8.2</td>\n",
       "      <td>51</td>\n",
       "      <td>6.7</td>\n",
       "      <td>0.0</td>\n",
       "      <td>0.0</td>\n",
       "    </tr>\n",
       "    <tr>\n",
       "      <th>1</th>\n",
       "      <td>7</td>\n",
       "      <td>4</td>\n",
       "      <td>oct</td>\n",
       "      <td>tue</td>\n",
       "      <td>90.6</td>\n",
       "      <td>35.4</td>\n",
       "      <td>669.1</td>\n",
       "      <td>6.7</td>\n",
       "      <td>18.0</td>\n",
       "      <td>33</td>\n",
       "      <td>0.9</td>\n",
       "      <td>0.0</td>\n",
       "      <td>0.0</td>\n",
       "    </tr>\n",
       "  </tbody>\n",
       "</table>\n",
       "</div>"
      ],
      "text/plain": [
       "   X  Y month  day  FFMC   DMC     DC  ISI  temp  RH  wind  rain  area\n",
       "0  7  5   mar  fri  86.2  26.2   94.3  5.1   8.2  51   6.7   0.0   0.0\n",
       "1  7  4   oct  tue  90.6  35.4  669.1  6.7  18.0  33   0.9   0.0   0.0"
      ]
     },
     "execution_count": 10,
     "metadata": {},
     "output_type": "execute_result"
    }
   ],
   "source": [
    "#2 looking at the first two rows of the dataset\\\n",
    "dataset[:2]"
   ]
  },
  {
   "cell_type": "markdown",
   "metadata": {},
   "source": [
    "The dataset contains: \n",
    "- X - x-axis spatial coordinate within the Montesinho park map: 1 to 9 \n",
    "- Y - y-axis spatial coordinate within the Montesinho park map: 2 to 9 \n",
    "- **month - month of the year: 'jan' to 'dec'**\n",
    "- day - day of the week: 'mon' to 'sun' \n",
    "- FFMC - FFMC index from the FWI system: 18.7 to 96.20 \n",
    "- DMC - DMC index from the FWI system: 1.1 to 291.3 \n",
    "- DC - DC index from the FWI system: 7.9 to 860.6 \n",
    "- ISI - ISI index from the FWI system: 0.0 to 56.10 \n",
    "- **temp - temperature in Celsius degrees: 2.2 to 33.30**\n",
    "- RH - relative humidity in %: 15.0 to 100 \n",
    "- wind - wind speed in km/h: 0.40 to 9.40 \n",
    "- rain - outside rain in mm/m2 : 0.0 to 6.4 \n",
    "- **area - the burned area of the forest (in ha): 0.00 to 1090.84**\n",
    "\n",
    "\n",
    "**Note:**   \n",
    "The fields that we'll be working with are highlighted in the listing."
   ]
  },
  {
   "cell_type": "markdown",
   "metadata": {},
   "source": [
    "---"
   ]
  },
  {
   "cell_type": "markdown",
   "metadata": {},
   "source": [
    "#### Getting insights into the sizes of forest fires.\n",
    "\n",
    "When looking at the first two rows of our dataset we can already see that it contains entries in which the area is 0.    \n",
    "For this first task we only care about fires that have an area of more than 0.   \n",
    "\n",
    "Create a new dataset that only contains the entries with an area value of > 0."
   ]
  },
  {
   "cell_type": "code",
   "execution_count": 13,
   "metadata": {},
   "outputs": [
    {
     "name": "stdout",
     "output_type": "stream",
     "text": [
      "     X  Y month  day  FFMC    DMC     DC   ISI  temp  RH  wind  rain   area\n",
      "138  9  9   jul  tue  85.8   48.3  313.4   3.9  18.0  42   2.7   0.0   0.36\n",
      "139  1  4   sep  tue  91.0  129.5  692.6   7.0  21.7  38   2.2   0.0   0.43\n",
      "140  2  5   sep  mon  90.9  126.5  686.5   7.0  21.9  39   1.8   0.0   0.47\n",
      "141  1  2   aug  wed  95.5   99.9  513.3  13.2  23.3  31   4.5   0.0   0.55\n",
      "142  8  6   aug  fri  90.1  108.0  529.8  12.5  21.2  51   8.9   0.0   0.61\n",
      "..  .. ..   ...  ...   ...    ...    ...   ...   ...  ..   ...   ...    ...\n",
      "509  5  4   aug  fri  91.0  166.9  752.6   7.1  21.1  71   7.6   1.4   2.17\n",
      "510  6  5   aug  fri  91.0  166.9  752.6   7.1  18.2  62   5.4   0.0   0.43\n",
      "512  4  3   aug  sun  81.6   56.7  665.6   1.9  27.8  32   2.7   0.0   6.44\n",
      "513  2  4   aug  sun  81.6   56.7  665.6   1.9  21.9  71   5.8   0.0  54.29\n",
      "514  7  4   aug  sun  81.6   56.7  665.6   1.9  21.2  70   6.7   0.0  11.16\n",
      "\n",
      "[270 rows x 13 columns]\n"
     ]
    }
   ],
   "source": [
    "#3 filter the dataset for rows that have an area > 0\n",
    "\n",
    "# Create a boolean mask for rows where \"area\" > 0\n",
    "mask = dataset['area'] > 0\n",
    "\n",
    "# Apply the mask to filter the dataset\n",
    "filtered_dataset = dataset[mask]\n",
    "print(filtered_dataset)"
   ]
  },
  {
   "cell_type": "markdown",
   "metadata": {},
   "source": [
    "After filtering out the zero area entries, we can simply use the `mean` method of pandas to get the mean area size of the forest fires for the filtered down dataset not containing zero area sizes.\n",
    "\n",
    "Get the mean value for the `area` column of out filtered dataset."
   ]
  },
  {
   "cell_type": "code",
   "execution_count": 15,
   "metadata": {},
   "outputs": [
    {
     "name": "stdout",
     "output_type": "stream",
     "text": [
      "24.600185185185182\n"
     ]
    }
   ],
   "source": [
    "#4 get the mean value for the area column\n",
    "\n",
    "mean_area = filtered_dataset['area'].mean()\n",
    "print(mean_area)"
   ]
  },
  {
   "cell_type": "markdown",
   "metadata": {},
   "source": [
    "In addition to that, looking at the largest and smallest non-zero area can help us understand the range of possible area sizes.\n",
    "Let's get more insights into that.\n",
    "\n",
    "- Use the `min` and `max` methods to see the smallest and largest area that has been affected by a forest fire.\n",
    "- Use the `std` method to get insights into how much variation there is in our dataset."
   ]
  },
  {
   "cell_type": "code",
   "execution_count": 17,
   "metadata": {},
   "outputs": [
    {
     "name": "stdout",
     "output_type": "stream",
     "text": [
      "0.09\n"
     ]
    }
   ],
   "source": [
    "#5 get the smallest area value from our dataset\n",
    "\n",
    "smallest_area = filtered_dataset['area'].min()\n",
    "print(smallest_area)"
   ]
  },
  {
   "cell_type": "code",
   "execution_count": 18,
   "metadata": {},
   "outputs": [
    {
     "name": "stdout",
     "output_type": "stream",
     "text": [
      "1090.84\n"
     ]
    }
   ],
   "source": [
    "#6 get the largest area value from our dataset\n",
    "\n",
    "largest_area = filtered_dataset['area'].max()\n",
    "print(largest_area)"
   ]
  },
  {
   "cell_type": "code",
   "execution_count": 19,
   "metadata": {},
   "outputs": [
    {
     "name": "stdout",
     "output_type": "stream",
     "text": [
      "86.50163460412126\n"
     ]
    }
   ],
   "source": [
    "#7 get the standard deviation of values in our dataset\n",
    "\n",
    "std_deviation = filtered_dataset['area'].std()\n",
    "print(std_deviation)"
   ]
  },
  {
   "cell_type": "markdown",
   "metadata": {},
   "source": [
    "The largest value is much larger than our mean.   \n",
    "The standard deviation also is quite large which indicates that the difference between our mean and the \"middle value\" will be quite high.\n",
    "\n",
    "Let's look at the last 20 values of our sorted dataset to see if we have more than one very large value.   \n",
    "Sort the filtered dataset by the `area` column and output the last 20 entries from it."
   ]
  },
  {
   "cell_type": "code",
   "execution_count": 21,
   "metadata": {
    "scrolled": false
   },
   "outputs": [
    {
     "name": "stdout",
     "output_type": "stream",
     "text": [
      "     X  Y month  day  FFMC    DMC     DC   ISI  temp  RH  wind  rain  area\n",
      "247  2  4   aug  wed  92.2   91.6  503.6   9.6  20.7  70   2.2   0.0  0.75\n",
      "423  1  3   sep  sat  91.2   94.3  744.4   8.4  22.3  48   4.0   0.0  0.72\n",
      "143  1  2   jul  sat  90.0   51.3  296.3   8.7  16.6  53   5.4   0.0  0.71\n",
      "250  8  5   aug  wed  93.1  157.3  666.7  13.5  26.8  25   3.1   0.0  0.68\n",
      "257  4  3   aug  sat  94.2  117.2  581.1  11.0  21.4  44   2.7   0.0  0.68\n",
      "142  8  6   aug  fri  90.1  108.0  529.8  12.5  21.2  51   8.9   0.0  0.61\n",
      "141  1  2   aug  wed  95.5   99.9  513.3  13.2  23.3  31   4.5   0.0  0.55\n",
      "436  8  6   aug  mon  92.1  207.0  672.6   8.2  26.8  35   1.3   0.0  0.54\n",
      "270  2  2   aug  tue  92.1  152.6  658.2  14.3  21.8  56   3.1   0.0  0.52\n",
      "362  7  4   sep  fri  88.2   55.2  732.3  11.6  15.2  64   3.1   0.0  0.52\n",
      "140  2  5   sep  mon  90.9  126.5  686.5   7.0  21.9  39   1.8   0.0  0.47\n",
      "510  6  5   aug  fri  91.0  166.9  752.6   7.1  18.2  62   5.4   0.0  0.43\n",
      "139  1  4   sep  tue  91.0  129.5  692.6   7.0  21.7  38   2.2   0.0  0.43\n",
      "306  7  4   sep  sun  89.6   84.1  714.3   5.7  17.1  53   5.4   0.0  0.41\n",
      "138  9  9   jul  tue  85.8   48.3  313.4   3.9  18.0  42   2.7   0.0  0.36\n",
      "439  1  3   sep  fri  91.1   91.3  738.1   7.2  19.1  46   2.2   0.0  0.33\n",
      "251  8  5   aug  wed  93.1  157.3  666.7  13.5  24.0  36   3.1   0.0  0.24\n",
      "252  6  5   aug  wed  93.1  157.3  666.7  13.5  22.1  37   3.6   0.0  0.21\n",
      "266  6  5   aug  tue  94.3  131.7  607.1  22.7  19.4  55   4.0   0.0  0.17\n",
      "246  5  4   aug  sun  91.8  175.1  700.7  13.8  25.7  39   5.4   0.0  0.09\n"
     ]
    }
   ],
   "source": [
    "#8 sorting the filtered dataset and printing the last 20 elements \n",
    "\n",
    "# Sort the filtered dataset by the \"area\" and print the last 20 element\n",
    "sorted_dataset = filtered_dataset.sort_values(by='area', ascending=False)\n",
    "\n",
    "# Print the last 20 elements\n",
    "last_20_elements = sorted_dataset.tail(20)\n",
    "print(last_20_elements)"
   ]
  },
  {
   "cell_type": "markdown",
   "metadata": {},
   "source": [
    "As we can see here, only 11 out of the 270 rows contain values that are larger than 100.   \n",
    "After 20 values we are close to the area value of 60. \n",
    "\n",
    "Let's imagine our dataset contained only 1 or 2 values that were much higher than the other ones, e.g. an area size value of 10254.91. Simply by observing the dataset, this feels like there might have been an error on adding this to the dataset.   \n",
    "In a smaller dataset, the mean value would get heavily distored by this one entry. A more stable value to use in such a case is the median value of the dataset.\n",
    "\n",
    "Get the median value for the ´area´ column."
   ]
  },
  {
   "cell_type": "code",
   "execution_count": 22,
   "metadata": {},
   "outputs": [
    {
     "name": "stdout",
     "output_type": "stream",
     "text": [
      "6.37\n"
     ]
    }
   ],
   "source": [
    "#9 calculate the median value for the area column\n",
    "\n",
    "median_area = filtered_dataset['area'].median()\n",
    "print(median_area)"
   ]
  },
  {
   "cell_type": "markdown",
   "metadata": {},
   "source": [
    "**Note:**   \n",
    "Remember that the median is not the same as then mean of your dataset. While the median is simple the \"value in the middle\", the mean is much more prone to distortion by outliers."
   ]
  },
  {
   "cell_type": "markdown",
   "metadata": {},
   "source": [
    "---"
   ]
  },
  {
   "cell_type": "markdown",
   "metadata": {},
   "source": [
    "#### Finding the month with the most forest fires"
   ]
  },
  {
   "cell_type": "markdown",
   "metadata": {},
   "source": [
    "In this second task we want to quickly see which months have the most forest fires and whether or not the temperature has a direct connection to it.\n",
    "\n",
    "Get a list of month values that are present in our dataset."
   ]
  },
  {
   "cell_type": "code",
   "execution_count": 26,
   "metadata": {},
   "outputs": [
    {
     "name": "stdout",
     "output_type": "stream",
     "text": [
      "['mar' 'oct' 'aug' 'sep' 'apr' 'jun' 'jul' 'feb' 'jan' 'dec' 'may' 'nov']\n"
     ]
    }
   ],
   "source": [
    "#10 get a list of month values from the dataset\n",
    "\n",
    "unique_months = dataset['month'].unique()\n",
    "print(unique_months)"
   ]
  },
  {
   "cell_type": "markdown",
   "metadata": {},
   "source": [
    "In addition to the unique values we also want use the shape element of our dataset to determine how many rows it has.\n",
    "\n",
    "Filter the dataset for only rows that contain the month `mar` and print the number of rows using `shape`."
   ]
  },
  {
   "cell_type": "code",
   "execution_count": 36,
   "metadata": {},
   "outputs": [
    {
     "name": "stdout",
     "output_type": "stream",
     "text": [
      "54\n"
     ]
    }
   ],
   "source": [
    "#11 get the number of forest fires for the month of march\n",
    "\n",
    "fires_in_march = dataset[dataset['month'] == 'mar'].shape[0]\n",
    "print(fires_in_march)"
   ]
  },
  {
   "cell_type": "markdown",
   "metadata": {},
   "source": [
    "The last step to fulfil the task is to iterate over all months, filtering our dataset for the rows containing the given month and calculating the mean temperature.\n",
    "\n",
    "- Iterate over the months from the unique list we created\n",
    "- Filter our dataset for the rows containing the given month\n",
    "- Get the number of rows from `shape`\n",
    "- Get the mean temperature for the given month\n",
    "- Print a statement with the number of fires, mean temperature and the month"
   ]
  },
  {
   "cell_type": "code",
   "execution_count": 55,
   "metadata": {},
   "outputs": [
    {
     "name": "stdout",
     "output_type": "stream",
     "text": [
      "Month: jan, Number of Fires: 2, Mean Temperature: 5.25\n",
      "Month: feb, Number of Fires: 20, Mean Temperature: 9.63\n",
      "Month: mar, Number of Fires: 54, Mean Temperature: 13.08\n",
      "Month: apr, Number of Fires: 9, Mean Temperature: 12.04\n",
      "Month: may, Number of Fires: 2, Mean Temperature: 14.65\n",
      "Month: jun, Number of Fires: 17, Mean Temperature: 20.49\n",
      "Month: jul, Number of Fires: 32, Mean Temperature: 22.11\n",
      "Month: aug, Number of Fires: 184, Mean Temperature: 21.63\n",
      "Month: sep, Number of Fires: 172, Mean Temperature: 19.61\n",
      "Month: oct, Number of Fires: 15, Mean Temperature: 17.09\n",
      "Month: nov, Number of Fires: 1, Mean Temperature: 11.80\n",
      "Month: dec, Number of Fires: 9, Mean Temperature: 4.52\n"
     ]
    }
   ],
   "source": [
    "# 12-15\n",
    "# iterate over the months list\n",
    "# get number of forest fires for each month\n",
    "# get mean temperature for each month\n",
    "# print out number of fires and mean temperature\n",
    "\n",
    "# Define a custom order for months\n",
    "month_order = ['jan', 'feb', 'mar', 'apr', 'may', 'jun', 'jul', 'aug', 'sep', 'oct', 'nov', 'dec']\n",
    "\n",
    "# Get a list of month values from the dataset\n",
    "unique_months = dataset['month'].unique()\n",
    "\n",
    "# Iterate over the custom order of months\n",
    "for month in month_order:\n",
    "    if month in unique_months:\n",
    "        month_data = dataset[dataset['month'] == month]\n",
    "        num_fires = month_data.shape[0]\n",
    "        mean_temp = month_data['temp'].mean()\n",
    "        print(f\"Month: {month}, Number of Fires: {num_fires}, Mean Temperature: {mean_temp:.2f}\")"
   ]
  },
  {
   "cell_type": "code",
   "execution_count": null,
   "metadata": {},
   "outputs": [],
   "source": []
  }
 ],
 "metadata": {
  "kernelspec": {
   "display_name": "Python 3 (ipykernel)",
   "language": "python",
   "name": "python3"
  },
  "language_info": {
   "codemirror_mode": {
    "name": "ipython",
    "version": 3
   },
   "file_extension": ".py",
   "mimetype": "text/x-python",
   "name": "python",
   "nbconvert_exporter": "python",
   "pygments_lexer": "ipython3",
   "version": "3.11.4"
  }
 },
 "nbformat": 4,
 "nbformat_minor": 2
}
